{
 "cells": [
  {
   "cell_type": "code",
   "execution_count": null,
   "id": "aa0abe51-ad66-43e3-9f9c-337d6745220d",
   "metadata": {},
   "outputs": [],
   "source": [
    "Маємо набір даних, який містить інформацю про стать (M -самець, F-самка) та вагу домашніх котів.\n",
    "Цей набір також можна завантажити з сайту - cats_sample.csv ."
   ]
  },
  {
   "cell_type": "code",
   "execution_count": null,
   "id": "8bfc4edc-fe61-4293-bbf6-4404f1d118af",
   "metadata": {},
   "outputs": [],
   "source": [
    "чтение локальных файлов"
   ]
  },
  {
   "cell_type": "code",
   "execution_count": 21,
   "id": "ba2c7d1c-b32e-4efb-aeb2-9b88f0ae3472",
   "metadata": {},
   "outputs": [],
   "source": [
    "ga_data <- read.csv(\"D:/Practice/prometheus statistic/cats_sample.csv\", colClasses = c(\"character\", \"numeric\"))"
   ]
  },
  {
   "cell_type": "code",
   "execution_count": 23,
   "id": "dd2fa048-88b4-463d-98fe-b75b6f62d23b",
   "metadata": {},
   "outputs": [
    {
     "data": {
      "text/html": [
       "<table>\n",
       "<thead><tr><th scope=col>Sex</th><th scope=col>Bwt</th></tr></thead>\n",
       "<tbody>\n",
       "\t<tr><td>M  </td><td>2.2</td></tr>\n",
       "\t<tr><td>M  </td><td>2.7</td></tr>\n",
       "\t<tr><td>F  </td><td>2.2</td></tr>\n",
       "\t<tr><td>M  </td><td>3.3</td></tr>\n",
       "\t<tr><td>M  </td><td>3.1</td></tr>\n",
       "\t<tr><td>F  </td><td>2.2</td></tr>\n",
       "\t<tr><td>M  </td><td>3.9</td></tr>\n",
       "\t<tr><td>F  </td><td>2.1</td></tr>\n",
       "\t<tr><td>M  </td><td>2.2</td></tr>\n",
       "\t<tr><td>M  </td><td>3.6</td></tr>\n",
       "\t<tr><td>F  </td><td>2.6</td></tr>\n",
       "\t<tr><td>M  </td><td>2.6</td></tr>\n",
       "\t<tr><td>F  </td><td>2.1</td></tr>\n",
       "\t<tr><td>M  </td><td>3.4</td></tr>\n",
       "\t<tr><td>M  </td><td>3.8</td></tr>\n",
       "\t<tr><td>M  </td><td>3.0</td></tr>\n",
       "\t<tr><td>F  </td><td>2.3</td></tr>\n",
       "\t<tr><td>M  </td><td>3.0</td></tr>\n",
       "\t<tr><td>M  </td><td>3.6</td></tr>\n",
       "\t<tr><td>F  </td><td>2.1</td></tr>\n",
       "</tbody>\n",
       "</table>\n"
      ],
      "text/latex": [
       "\\begin{tabular}{r|ll}\n",
       " Sex & Bwt\\\\\n",
       "\\hline\n",
       "\t M   & 2.2\\\\\n",
       "\t M   & 2.7\\\\\n",
       "\t F   & 2.2\\\\\n",
       "\t M   & 3.3\\\\\n",
       "\t M   & 3.1\\\\\n",
       "\t F   & 2.2\\\\\n",
       "\t M   & 3.9\\\\\n",
       "\t F   & 2.1\\\\\n",
       "\t M   & 2.2\\\\\n",
       "\t M   & 3.6\\\\\n",
       "\t F   & 2.6\\\\\n",
       "\t M   & 2.6\\\\\n",
       "\t F   & 2.1\\\\\n",
       "\t M   & 3.4\\\\\n",
       "\t M   & 3.8\\\\\n",
       "\t M   & 3.0\\\\\n",
       "\t F   & 2.3\\\\\n",
       "\t M   & 3.0\\\\\n",
       "\t M   & 3.6\\\\\n",
       "\t F   & 2.1\\\\\n",
       "\\end{tabular}\n"
      ],
      "text/markdown": [
       "\n",
       "| Sex | Bwt |\n",
       "|---|---|\n",
       "| M   | 2.2 |\n",
       "| M   | 2.7 |\n",
       "| F   | 2.2 |\n",
       "| M   | 3.3 |\n",
       "| M   | 3.1 |\n",
       "| F   | 2.2 |\n",
       "| M   | 3.9 |\n",
       "| F   | 2.1 |\n",
       "| M   | 2.2 |\n",
       "| M   | 3.6 |\n",
       "| F   | 2.6 |\n",
       "| M   | 2.6 |\n",
       "| F   | 2.1 |\n",
       "| M   | 3.4 |\n",
       "| M   | 3.8 |\n",
       "| M   | 3.0 |\n",
       "| F   | 2.3 |\n",
       "| M   | 3.0 |\n",
       "| M   | 3.6 |\n",
       "| F   | 2.1 |\n",
       "\n"
      ],
      "text/plain": [
       "   Sex Bwt\n",
       "1  M   2.2\n",
       "2  M   2.7\n",
       "3  F   2.2\n",
       "4  M   3.3\n",
       "5  M   3.1\n",
       "6  F   2.2\n",
       "7  M   3.9\n",
       "8  F   2.1\n",
       "9  M   2.2\n",
       "10 M   3.6\n",
       "11 F   2.6\n",
       "12 M   2.6\n",
       "13 F   2.1\n",
       "14 M   3.4\n",
       "15 M   3.8\n",
       "16 M   3.0\n",
       "17 F   2.3\n",
       "18 M   3.0\n",
       "19 M   3.6\n",
       "20 F   2.1"
      ]
     },
     "metadata": {},
     "output_type": "display_data"
    }
   ],
   "source": [
    "## виведемо всі значення, які належать ga_data\n",
    "ga_data"
   ]
  },
  {
   "cell_type": "code",
   "execution_count": null,
   "id": "b9a131c1-f62e-43d5-97d8-4371a6d761c8",
   "metadata": {},
   "outputs": [],
   "source": [
    "1. Знайдіть медіану ваги самок."
   ]
  },
  {
   "cell_type": "code",
   "execution_count": 49,
   "id": "50bde901-adad-4349-a3c1-afb044d11958",
   "metadata": {},
   "outputs": [],
   "source": [
    "## створимо новий вектор даних з колонки \"Bwt\" з датафрейму або списку ga_data, який містить дані про вагу. \n",
    "## У фільтрованих даних залишаються лише ті значення, де колонка \"Sex\" має значення \"F\" (що, очевидно, вказує на жіночу стать).\n",
    "filteredData <- ga_data$Bwt[which(ga_data$Sex=='F')]"
   ]
  },
  {
   "cell_type": "code",
   "execution_count": 52,
   "id": "53593f76-53cc-43b8-8224-e962afe52d53",
   "metadata": {},
   "outputs": [
    {
     "data": {
      "text/html": [
       "<ol class=list-inline>\n",
       "\t<li>2.1</li>\n",
       "\t<li>2.1</li>\n",
       "\t<li>2.1</li>\n",
       "\t<li>2.2</li>\n",
       "\t<li>2.2</li>\n",
       "\t<li>2.3</li>\n",
       "\t<li>2.6</li>\n",
       "</ol>\n"
      ],
      "text/latex": [
       "\\begin{enumerate*}\n",
       "\\item 2.1\n",
       "\\item 2.1\n",
       "\\item 2.1\n",
       "\\item 2.2\n",
       "\\item 2.2\n",
       "\\item 2.3\n",
       "\\item 2.6\n",
       "\\end{enumerate*}\n"
      ],
      "text/markdown": [
       "1. 2.1\n",
       "2. 2.1\n",
       "3. 2.1\n",
       "4. 2.2\n",
       "5. 2.2\n",
       "6. 2.3\n",
       "7. 2.6\n",
       "\n",
       "\n"
      ],
      "text/plain": [
       "[1] 2.1 2.1 2.1 2.2 2.2 2.3 2.6"
      ]
     },
     "metadata": {},
     "output_type": "display_data"
    }
   ],
   "source": [
    "sort(filteredData)"
   ]
  },
  {
   "cell_type": "code",
   "execution_count": 37,
   "id": "7beb0058-1aa1-4416-97f1-53670e40a7d8",
   "metadata": {},
   "outputs": [
    {
     "data": {
      "text/html": [
       "2.2"
      ],
      "text/latex": [
       "2.2"
      ],
      "text/markdown": [
       "2.2"
      ],
      "text/plain": [
       "[1] 2.2"
      ]
     },
     "metadata": {},
     "output_type": "display_data"
    }
   ],
   "source": [
    "# Знаходжу медіану ваги самок.\n",
    "median(filteredData)"
   ]
  },
  {
   "cell_type": "code",
   "execution_count": null,
   "id": "2cc820a3-7f9e-49c8-8932-57677a04f564",
   "metadata": {},
   "outputs": [],
   "source": [
    "2. Обчисліть дисперсію ваги самок. Результат заокругліть до третього знака"
   ]
  },
  {
   "cell_type": "code",
   "execution_count": 43,
   "id": "7e3b3dc6-01e6-4276-94b9-56d1c7b57f7f",
   "metadata": {},
   "outputs": [
    {
     "data": {
      "text/html": [
       "0.0323809523809524"
      ],
      "text/latex": [
       "0.0323809523809524"
      ],
      "text/markdown": [
       "0.0323809523809524"
      ],
      "text/plain": [
       "[1] 0.03238095"
      ]
     },
     "metadata": {},
     "output_type": "display_data"
    }
   ],
   "source": [
    "# для обрахунку використовую функцію var для обрахунку дисперсії вибірки\n",
    "var(filteredData)"
   ]
  },
  {
   "cell_type": "code",
   "execution_count": null,
   "id": "9f40077f-6577-41b7-bd88-69f8a9b4c071",
   "metadata": {},
   "outputs": [],
   "source": [
    "3. Знайдіть значення Q3 для ваги самок"
   ]
  },
  {
   "cell_type": "code",
   "execution_count": null,
   "id": "484321f0-401d-41ae-9991-b46f14914943",
   "metadata": {},
   "outputs": [],
   "source": [
    "в R можна використати функції summary або quantile (вибравши лише вагу самок)"
   ]
  },
  {
   "cell_type": "code",
   "execution_count": 47,
   "id": "fefccbe7-aef0-4f54-a35e-7ffa2870f6b3",
   "metadata": {},
   "outputs": [
    {
     "data": {
      "text/plain": [
       "   Min. 1st Qu.  Median    Mean 3rd Qu.    Max. \n",
       "  2.100   2.100   2.200   2.229   2.250   2.600 "
      ]
     },
     "metadata": {},
     "output_type": "display_data"
    }
   ],
   "source": [
    "summary(filteredData)"
   ]
  },
  {
   "cell_type": "code",
   "execution_count": 48,
   "id": "2de922f5-3ec4-4d1d-aa57-32ebd2815506",
   "metadata": {},
   "outputs": [
    {
     "data": {
      "text/html": [
       "<dl class=dl-horizontal>\n",
       "\t<dt>0%</dt>\n",
       "\t\t<dd>2.1</dd>\n",
       "\t<dt>25%</dt>\n",
       "\t\t<dd>2.1</dd>\n",
       "\t<dt>50%</dt>\n",
       "\t\t<dd>2.2</dd>\n",
       "\t<dt>75%</dt>\n",
       "\t\t<dd>2.25</dd>\n",
       "\t<dt>100%</dt>\n",
       "\t\t<dd>2.6</dd>\n",
       "</dl>\n"
      ],
      "text/latex": [
       "\\begin{description*}\n",
       "\\item[0\\textbackslash{}\\%] 2.1\n",
       "\\item[25\\textbackslash{}\\%] 2.1\n",
       "\\item[50\\textbackslash{}\\%] 2.2\n",
       "\\item[75\\textbackslash{}\\%] 2.25\n",
       "\\item[100\\textbackslash{}\\%] 2.6\n",
       "\\end{description*}\n"
      ],
      "text/markdown": [
       "0%\n",
       ":   2.125%\n",
       ":   2.150%\n",
       ":   2.275%\n",
       ":   2.25100%\n",
       ":   2.6\n",
       "\n"
      ],
      "text/plain": [
       "  0%  25%  50%  75% 100% \n",
       "2.10 2.10 2.20 2.25 2.60 "
      ]
     },
     "metadata": {},
     "output_type": "display_data"
    }
   ],
   "source": [
    "quantile(filteredData)"
   ]
  },
  {
   "cell_type": "code",
   "execution_count": null,
   "id": "b7d03247-21c4-4520-bbea-ec36c6a85730",
   "metadata": {},
   "outputs": [],
   "source": [
    "Відповідь: 2.25"
   ]
  },
  {
   "cell_type": "code",
   "execution_count": null,
   "id": "07665d77-6858-4ca5-9612-8238d178bd40",
   "metadata": {},
   "outputs": [],
   "source": []
  },
  {
   "cell_type": "code",
   "execution_count": null,
   "id": "7481e080-d248-4a9f-964e-f1bc6b4dd70a",
   "metadata": {},
   "outputs": [],
   "source": [
    "5. Чи є вага самки 2.5 кг викидом:"
   ]
  },
  {
   "cell_type": "code",
   "execution_count": 54,
   "id": "4afb0d0a-5f4f-4ddc-850a-b8f9bdda0526",
   "metadata": {},
   "outputs": [
    {
     "name": "stdout",
     "output_type": "stream",
     "text": [
      "[1] 2.6\n"
     ]
    }
   ],
   "source": [
    "# Обчислюємо квартилі\n",
    "Q1 <- quantile(filteredData, 0.25)\n",
    "Q3 <- quantile(filteredData, 0.75)\n",
    "\n",
    "# Обчислюємо міжквартильний діапазон (IQR)\n",
    "IQR <- Q3 - Q1\n",
    "\n",
    "# Визначаю верхню та нижню межі викидів\n",
    "upper_limit <- Q3 + 1.5 * IQR\n",
    "lower_limit <- Q1 - 1.5 * IQR\n",
    "\n",
    "# Відфільтровую дані\n",
    "outliers <- filteredData[filteredData < lower_limit | filteredData > upper_limit]\n",
    "\n",
    "# Виводжу викиди\n",
    "print(outliers)"
   ]
  },
  {
   "cell_type": "code",
   "execution_count": 55,
   "id": "bd36eb93-9a9a-4808-bda7-6080e4e27d0c",
   "metadata": {},
   "outputs": [
    {
     "name": "stdout",
     "output_type": "stream",
     "text": [
      "[1] \"Вага 2.5 кг є викидом.\"\n"
     ]
    }
   ],
   "source": [
    "# Вага самки\n",
    "weight_female <- 2.5\n",
    "\n",
    "# Перевірка, чи є вага 2.5 кг викидом\n",
    "if (weight_female < lower_limit | weight_female > upper_limit) {\n",
    "  print(\"Вага 2.5 кг є викидом.\")\n",
    "} else {\n",
    "  print(\"Вага 2.5 кг не є викидом.\")\n",
    "}"
   ]
  },
  {
   "cell_type": "code",
   "execution_count": 56,
   "id": "6571e7d2-b1d5-4add-9284-3f9f3c63e64b",
   "metadata": {},
   "outputs": [
    {
     "data": {
      "text/html": [
       "<dl>\n",
       "\t<dt>$stats</dt>\n",
       "\t\t<dd><ol class=list-inline>\n",
       "\t<li>2.1</li>\n",
       "\t<li>2.1</li>\n",
       "\t<li>2.2</li>\n",
       "\t<li>2.25</li>\n",
       "\t<li>2.3</li>\n",
       "</ol>\n",
       "</dd>\n",
       "\t<dt>$n</dt>\n",
       "\t\t<dd>7</dd>\n",
       "\t<dt>$conf</dt>\n",
       "\t\t<dd><ol class=list-inline>\n",
       "\t<li>2.11042241989681</li>\n",
       "\t<li>2.28957758010319</li>\n",
       "</ol>\n",
       "</dd>\n",
       "\t<dt>$out</dt>\n",
       "\t\t<dd>2.6</dd>\n",
       "</dl>\n"
      ],
      "text/latex": [
       "\\begin{description}\n",
       "\\item[\\$stats] \\begin{enumerate*}\n",
       "\\item 2.1\n",
       "\\item 2.1\n",
       "\\item 2.2\n",
       "\\item 2.25\n",
       "\\item 2.3\n",
       "\\end{enumerate*}\n",
       "\n",
       "\\item[\\$n] 7\n",
       "\\item[\\$conf] \\begin{enumerate*}\n",
       "\\item 2.11042241989681\n",
       "\\item 2.28957758010319\n",
       "\\end{enumerate*}\n",
       "\n",
       "\\item[\\$out] 2.6\n",
       "\\end{description}\n"
      ],
      "text/markdown": [
       "$stats\n",
       ":   1. 2.1\n",
       "2. 2.1\n",
       "3. 2.2\n",
       "4. 2.25\n",
       "5. 2.3\n",
       "\n",
       "\n",
       "\n",
       "$n\n",
       ":   7\n",
       "$conf\n",
       ":   1. 2.11042241989681\n",
       "2. 2.28957758010319\n",
       "\n",
       "\n",
       "\n",
       "$out\n",
       ":   2.6\n",
       "\n",
       "\n"
      ],
      "text/plain": [
       "$stats\n",
       "[1] 2.10 2.10 2.20 2.25 2.30\n",
       "\n",
       "$n\n",
       "[1] 7\n",
       "\n",
       "$conf\n",
       "[1] 2.110422 2.289578\n",
       "\n",
       "$out\n",
       "[1] 2.6\n"
      ]
     },
     "metadata": {},
     "output_type": "display_data"
    }
   ],
   "source": [
    "#отримати потенційні викиди можна на основі критерію IQR\n",
    "boxplot.stats(ga_data$Bwt[which(ga_data$Sex=='F')])"
   ]
  },
  {
   "cell_type": "code",
   "execution_count": 57,
   "id": "31d0c928-c15e-4712-b074-4b8ddd5f67d1",
   "metadata": {},
   "outputs": [
    {
     "data": {
      "image/png": "[encoded data removed]",
      "text/plain": [
       "plot without title"
      ]
     },
     "metadata": {},
     "output_type": "display_data"
    }
   ],
   "source": [
    "#або коробчатої діаграми\n",
    "boxplot(ga_data$Bwt)"
   ]
  },
  {
   "cell_type": "code",
   "execution_count": null,
   "id": "924bbbda-9b46-43f9-a13c-e37c8c56243f",
   "metadata": {},
   "outputs": [],
   "source": []
  }
 ],
 "metadata": {
  "kernelspec": {
   "display_name": "R",
   "language": "R",
   "name": "ir"
  },
  "language_info": {
   "codemirror_mode": "r",
   "file_extension": ".r",
   "mimetype": "text/x-r-source",
   "name": "R",
   "pygments_lexer": "r",
   "version": "3.6.1"
  }
 },
 "nbformat": 4,
 "nbformat_minor": 5
}
